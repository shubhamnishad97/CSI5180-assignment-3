{
  "nbformat": 4,
  "nbformat_minor": 0,
  "metadata": {
    "colab": {
      "name": "paraphrase.ipynb",
      "provenance": [],
      "collapsed_sections": []
    },
    "kernelspec": {
      "name": "python3",
      "display_name": "Python 3"
    }
  },
  "cells": [
    {
      "cell_type": "code",
      "metadata": {
        "colab": {
          "base_uri": "https://localhost:8080/"
        },
        "id": "tLS78Y_BdA6S",
        "outputId": "06aa72a2-dd1e-4fc4-c321-a1e6d8ee063d"
      },
      "source": [
        "import numpy as np \r\n",
        "import pandas as pd \r\n",
        "\r\n",
        "import matplotlib.pyplot as plt\r\n",
        "import seaborn as sb\r\n",
        "\r\n",
        "import os\r\n",
        "import nltk\r\n",
        "from nltk.corpus import stopwords\r\n",
        "import seaborn as sns\r\n",
        "from sklearn.metrics import f1_score\r\n",
        "from sklearn.model_selection import KFold\r\n",
        "from sklearn.feature_extraction.text import TfidfVectorizer,CountVectorizer\r\n",
        "from sklearn.linear_model import LogisticRegression\r\n",
        "from sklearn.model_selection import cross_val_score\r\n",
        "from sklearn.ensemble import RandomForestClassifier\r\n",
        "from sklearn.naive_bayes import GaussianNB,MultinomialNB,ComplementNB,BernoulliNB\r\n",
        "\r\n",
        "import re\r\n",
        "\r\n",
        "from collections import Counter\r\n",
        "from sklearn.datasets import make_classification\r\n",
        "\r\n",
        "from imblearn.under_sampling import RandomUnderSampler\r\n",
        "\r\n",
        "from sklearn import model_selection, naive_bayes, svm\r\n",
        "from sklearn.metrics import accuracy_score\r\n",
        "from sklearn.metrics import accuracy_score, f1_score, precision_score, recall_score, classification_report, confusion_matrix\r\n",
        "\r\n",
        "from nltk import FreqDist\r\n",
        "import nltk\r\n",
        "nltk.download('stopwords')\r\n",
        "nltk.download('punkt')\r\n",
        "from nltk.tokenize import sent_tokenize, word_tokenize\r\n",
        "from nltk.corpus import stopwords"
      ],
      "execution_count": null,
      "outputs": [
        {
          "output_type": "stream",
          "text": [
            "[nltk_data] Downloading package stopwords to /root/nltk_data...\n",
            "[nltk_data]   Package stopwords is already up-to-date!\n",
            "[nltk_data] Downloading package punkt to /root/nltk_data...\n",
            "[nltk_data]   Package punkt is already up-to-date!\n"
          ],
          "name": "stdout"
        },
        {
          "output_type": "stream",
          "text": [
            "/usr/local/lib/python3.7/dist-packages/sklearn/externals/six.py:31: FutureWarning: The module is deprecated in version 0.21 and will be removed in version 0.23 since we've dropped support for Python 2.7. Please rely on the official version of six (https://pypi.org/project/six/).\n",
            "  \"(https://pypi.org/project/six/).\", FutureWarning)\n",
            "/usr/local/lib/python3.7/dist-packages/sklearn/utils/deprecation.py:144: FutureWarning: The sklearn.neighbors.base module is  deprecated in version 0.22 and will be removed in version 0.24. The corresponding classes / functions should instead be imported from sklearn.neighbors. Anything that cannot be imported from sklearn.neighbors is now part of the private API.\n",
            "  warnings.warn(message, FutureWarning)\n"
          ],
          "name": "stderr"
        }
      ]
    },
    {
      "cell_type": "markdown",
      "metadata": {
        "id": "rjP_4h1o4g8H"
      },
      "source": [
        "**Loading Data**"
      ]
    },
    {
      "cell_type": "code",
      "metadata": {
        "colab": {
          "base_uri": "https://localhost:8080/"
        },
        "id": "i5XIcFtndU5n",
        "outputId": "cd9f8a1a-2ab1-4069-fb6d-5779b2fd140e"
      },
      "source": [
        "colnames=['id','name','t1', 't2', 'output', 'POSt1','POSt2'] \r\n",
        "\r\n",
        "train = pd.read_csv(\"train.data\", error_bad_lines=False, sep='\\t', names=colnames, header=None)\r\n",
        "print(\"train data: {}\".format(train.shape))\r\n",
        "\r\n",
        "test = pd.read_csv(\"test.data\", error_bad_lines=False, sep='\\t', names=colnames, header=None)\r\n",
        "print(\"test data: {}\".format(test.shape))\r\n",
        "\r\n",
        "dev = pd.read_csv(\"dev.data\", error_bad_lines=False, sep='\\t', names=colnames, header=None)\r\n",
        "print(\"dev data: {}\".format(dev.shape))"
      ],
      "execution_count": null,
      "outputs": [
        {
          "output_type": "stream",
          "text": [
            "train data: (13063, 7)\n",
            "test data: (972, 7)\n",
            "dev data: (4727, 7)\n"
          ],
          "name": "stdout"
        }
      ]
    },
    {
      "cell_type": "code",
      "metadata": {
        "colab": {
          "base_uri": "https://localhost:8080/",
          "height": 306
        },
        "id": "Z3QHZNigdZtp",
        "outputId": "face1813-8854-4ade-b5db-afea66c01baa"
      },
      "source": [
        "train.head()"
      ],
      "execution_count": null,
      "outputs": [
        {
          "output_type": "execute_result",
          "data": {
            "text/html": [
              "<div>\n",
              "<style scoped>\n",
              "    .dataframe tbody tr th:only-of-type {\n",
              "        vertical-align: middle;\n",
              "    }\n",
              "\n",
              "    .dataframe tbody tr th {\n",
              "        vertical-align: top;\n",
              "    }\n",
              "\n",
              "    .dataframe thead th {\n",
              "        text-align: right;\n",
              "    }\n",
              "</style>\n",
              "<table border=\"1\" class=\"dataframe\">\n",
              "  <thead>\n",
              "    <tr style=\"text-align: right;\">\n",
              "      <th></th>\n",
              "      <th>id</th>\n",
              "      <th>name</th>\n",
              "      <th>t1</th>\n",
              "      <th>t2</th>\n",
              "      <th>output</th>\n",
              "      <th>POSt1</th>\n",
              "      <th>POSt2</th>\n",
              "    </tr>\n",
              "  </thead>\n",
              "  <tbody>\n",
              "    <tr>\n",
              "      <th>0</th>\n",
              "      <td>4</td>\n",
              "      <td>1st QB</td>\n",
              "      <td>EJ Manuel the 1st QB to go in this draft</td>\n",
              "      <td>But my bro from the 757 EJ Manuel is the 1st Q...</td>\n",
              "      <td>(5, 0)</td>\n",
              "      <td>EJ/B-person/NNP/B-NP/O Manuel/I-person/NNP/B-V...</td>\n",
              "      <td>But/O/CC/O/O my/O/PRP$/B-NP/O bro/O/NN/I-NP/O ...</td>\n",
              "    </tr>\n",
              "    <tr>\n",
              "      <th>1</th>\n",
              "      <td>4</td>\n",
              "      <td>1st QB</td>\n",
              "      <td>EJ Manuel the 1st QB to go in this draft</td>\n",
              "      <td>Can believe EJ Manuel went as the 1st QB in th...</td>\n",
              "      <td>(5, 0)</td>\n",
              "      <td>EJ/B-person/NNP/B-NP/O Manuel/I-person/NNP/B-V...</td>\n",
              "      <td>Can/O/MD/B-VP/O believe/O/VB/I-VP/B-EVENT EJ/B...</td>\n",
              "    </tr>\n",
              "    <tr>\n",
              "      <th>2</th>\n",
              "      <td>4</td>\n",
              "      <td>1st QB</td>\n",
              "      <td>EJ Manuel the 1st QB to go in this draft</td>\n",
              "      <td>EJ MANUEL IS THE 1ST QB what</td>\n",
              "      <td>(3, 2)</td>\n",
              "      <td>EJ/B-person/NNP/B-NP/O Manuel/I-person/NNP/B-V...</td>\n",
              "      <td>EJ/B-person/NNP/B-NP/O MANUEL/I-person/NNP/I-N...</td>\n",
              "    </tr>\n",
              "    <tr>\n",
              "      <th>3</th>\n",
              "      <td>4</td>\n",
              "      <td>1st QB</td>\n",
              "      <td>EJ Manuel the 1st QB to go in this draft</td>\n",
              "      <td>EJ da 1st QB off da board</td>\n",
              "      <td>(2, 3)</td>\n",
              "      <td>EJ/B-person/NNP/B-NP/O Manuel/I-person/NNP/B-V...</td>\n",
              "      <td>EJ/O/NNP/B-NP/O da/O/DT/I-NP/O 1st/O/CD/I-NP/O...</td>\n",
              "    </tr>\n",
              "    <tr>\n",
              "      <th>4</th>\n",
              "      <td>4</td>\n",
              "      <td>1st QB</td>\n",
              "      <td>EJ Manuel the 1st QB to go in this draft</td>\n",
              "      <td>Manuel is the 1st QB to get drafted</td>\n",
              "      <td>(4, 1)</td>\n",
              "      <td>EJ/B-person/NNP/B-NP/O Manuel/I-person/NNP/B-V...</td>\n",
              "      <td>Manuel/B-person/NNP/B-NP/O is/O/VBZ/B-VP/O the...</td>\n",
              "    </tr>\n",
              "  </tbody>\n",
              "</table>\n",
              "</div>"
            ],
            "text/plain": [
              "   id  ...                                              POSt2\n",
              "0   4  ...  But/O/CC/O/O my/O/PRP$/B-NP/O bro/O/NN/I-NP/O ...\n",
              "1   4  ...  Can/O/MD/B-VP/O believe/O/VB/I-VP/B-EVENT EJ/B...\n",
              "2   4  ...  EJ/B-person/NNP/B-NP/O MANUEL/I-person/NNP/I-N...\n",
              "3   4  ...  EJ/O/NNP/B-NP/O da/O/DT/I-NP/O 1st/O/CD/I-NP/O...\n",
              "4   4  ...  Manuel/B-person/NNP/B-NP/O is/O/VBZ/B-VP/O the...\n",
              "\n",
              "[5 rows x 7 columns]"
            ]
          },
          "metadata": {
            "tags": []
          },
          "execution_count": 3
        }
      ]
    },
    {
      "cell_type": "code",
      "metadata": {
        "id": "NaTCrSi7dboD"
      },
      "source": [
        "cols_of_interest = ['t1', 't2', 'output']\r\n",
        "\r\n",
        "train = train[cols_of_interest]\r\n",
        "test = test[cols_of_interest]\r\n",
        "dev = dev[cols_of_interest]"
      ],
      "execution_count": null,
      "outputs": []
    },
    {
      "cell_type": "code",
      "metadata": {
        "colab": {
          "base_uri": "https://localhost:8080/",
          "height": 204
        },
        "id": "Fp4RRGG0ddPV",
        "outputId": "c4ff374c-906e-414f-e7ca-40e64e5b8169"
      },
      "source": [
        "train.head()"
      ],
      "execution_count": null,
      "outputs": [
        {
          "output_type": "execute_result",
          "data": {
            "text/html": [
              "<div>\n",
              "<style scoped>\n",
              "    .dataframe tbody tr th:only-of-type {\n",
              "        vertical-align: middle;\n",
              "    }\n",
              "\n",
              "    .dataframe tbody tr th {\n",
              "        vertical-align: top;\n",
              "    }\n",
              "\n",
              "    .dataframe thead th {\n",
              "        text-align: right;\n",
              "    }\n",
              "</style>\n",
              "<table border=\"1\" class=\"dataframe\">\n",
              "  <thead>\n",
              "    <tr style=\"text-align: right;\">\n",
              "      <th></th>\n",
              "      <th>t1</th>\n",
              "      <th>t2</th>\n",
              "      <th>output</th>\n",
              "    </tr>\n",
              "  </thead>\n",
              "  <tbody>\n",
              "    <tr>\n",
              "      <th>0</th>\n",
              "      <td>EJ Manuel the 1st QB to go in this draft</td>\n",
              "      <td>But my bro from the 757 EJ Manuel is the 1st Q...</td>\n",
              "      <td>(5, 0)</td>\n",
              "    </tr>\n",
              "    <tr>\n",
              "      <th>1</th>\n",
              "      <td>EJ Manuel the 1st QB to go in this draft</td>\n",
              "      <td>Can believe EJ Manuel went as the 1st QB in th...</td>\n",
              "      <td>(5, 0)</td>\n",
              "    </tr>\n",
              "    <tr>\n",
              "      <th>2</th>\n",
              "      <td>EJ Manuel the 1st QB to go in this draft</td>\n",
              "      <td>EJ MANUEL IS THE 1ST QB what</td>\n",
              "      <td>(3, 2)</td>\n",
              "    </tr>\n",
              "    <tr>\n",
              "      <th>3</th>\n",
              "      <td>EJ Manuel the 1st QB to go in this draft</td>\n",
              "      <td>EJ da 1st QB off da board</td>\n",
              "      <td>(2, 3)</td>\n",
              "    </tr>\n",
              "    <tr>\n",
              "      <th>4</th>\n",
              "      <td>EJ Manuel the 1st QB to go in this draft</td>\n",
              "      <td>Manuel is the 1st QB to get drafted</td>\n",
              "      <td>(4, 1)</td>\n",
              "    </tr>\n",
              "  </tbody>\n",
              "</table>\n",
              "</div>"
            ],
            "text/plain": [
              "                                         t1  ...  output\n",
              "0  EJ Manuel the 1st QB to go in this draft  ...  (5, 0)\n",
              "1  EJ Manuel the 1st QB to go in this draft  ...  (5, 0)\n",
              "2  EJ Manuel the 1st QB to go in this draft  ...  (3, 2)\n",
              "3  EJ Manuel the 1st QB to go in this draft  ...  (2, 3)\n",
              "4  EJ Manuel the 1st QB to go in this draft  ...  (4, 1)\n",
              "\n",
              "[5 rows x 3 columns]"
            ]
          },
          "metadata": {
            "tags": []
          },
          "execution_count": 5
        }
      ]
    },
    {
      "cell_type": "code",
      "metadata": {
        "id": "lSgwixPRdesg"
      },
      "source": [
        "# converting to binary\r\n",
        "# paraphrases: (3, 2) (4, 1) (5, 0)\r\n",
        "# non-paraphrases: (1, 4) (0, 5)\r\n",
        "# debatable: (2, 3)  which you may discard if training binary classifier\r\n",
        "\r\n",
        "# paraphrase: 1\r\n",
        "# not-paraphrase: 0\r\n",
        "def binary(x):\r\n",
        "    if x > 2: return 1\r\n",
        "    else: return 0\r\n",
        "\r\n",
        "#train['output'] = train['output'].apply(lambda x: binary(int(x[1])))\r\n",
        "#dev['output'] = dev['output'].apply(lambda x: binary(int(x[1])))"
      ],
      "execution_count": null,
      "outputs": []
    },
    {
      "cell_type": "code",
      "metadata": {
        "colab": {
          "base_uri": "https://localhost:8080/",
          "height": 204
        },
        "id": "98hXRMWX6uoC",
        "outputId": "05183ab2-4f6a-4a77-8395-3713918770aa"
      },
      "source": [
        "dev.head()"
      ],
      "execution_count": null,
      "outputs": [
        {
          "output_type": "execute_result",
          "data": {
            "text/html": [
              "<div>\n",
              "<style scoped>\n",
              "    .dataframe tbody tr th:only-of-type {\n",
              "        vertical-align: middle;\n",
              "    }\n",
              "\n",
              "    .dataframe tbody tr th {\n",
              "        vertical-align: top;\n",
              "    }\n",
              "\n",
              "    .dataframe thead th {\n",
              "        text-align: right;\n",
              "    }\n",
              "</style>\n",
              "<table border=\"1\" class=\"dataframe\">\n",
              "  <thead>\n",
              "    <tr style=\"text-align: right;\">\n",
              "      <th></th>\n",
              "      <th>t1</th>\n",
              "      <th>t2</th>\n",
              "      <th>output</th>\n",
              "    </tr>\n",
              "  </thead>\n",
              "  <tbody>\n",
              "    <tr>\n",
              "      <th>0</th>\n",
              "      <td>A Walk to Remember is the definition of true love</td>\n",
              "      <td>A Walk to Remember is on and Im in town and Im...</td>\n",
              "      <td>0</td>\n",
              "    </tr>\n",
              "    <tr>\n",
              "      <th>1</th>\n",
              "      <td>A Walk to Remember is the definition of true love</td>\n",
              "      <td>A Walk to Remember is the cutest thing</td>\n",
              "      <td>1</td>\n",
              "    </tr>\n",
              "    <tr>\n",
              "      <th>2</th>\n",
              "      <td>A Walk to Remember is the definition of true love</td>\n",
              "      <td>A walk to remember is on ABC family youre welcome</td>\n",
              "      <td>0</td>\n",
              "    </tr>\n",
              "    <tr>\n",
              "      <th>3</th>\n",
              "      <td>A Walk to Remember is the definition of true love</td>\n",
              "      <td>A walk to remember is so amazing and inspiring</td>\n",
              "      <td>1</td>\n",
              "    </tr>\n",
              "    <tr>\n",
              "      <th>4</th>\n",
              "      <td>A Walk to Remember is the definition of true love</td>\n",
              "      <td>BUT GUYS ITS ON MY FAVE PART OF A WALK TO REME...</td>\n",
              "      <td>0</td>\n",
              "    </tr>\n",
              "  </tbody>\n",
              "</table>\n",
              "</div>"
            ],
            "text/plain": [
              "                                                  t1  ... output\n",
              "0  A Walk to Remember is the definition of true love  ...      0\n",
              "1  A Walk to Remember is the definition of true love  ...      1\n",
              "2  A Walk to Remember is the definition of true love  ...      0\n",
              "3  A Walk to Remember is the definition of true love  ...      1\n",
              "4  A Walk to Remember is the definition of true love  ...      0\n",
              "\n",
              "[5 rows x 3 columns]"
            ]
          },
          "metadata": {
            "tags": []
          },
          "execution_count": 11
        }
      ]
    },
    {
      "cell_type": "code",
      "metadata": {
        "colab": {
          "base_uri": "https://localhost:8080/"
        },
        "id": "oH4E27x3dhtC",
        "outputId": "8f3aaedd-734f-47a1-db98-2d130ad2ef84"
      },
      "source": [
        "train.info()"
      ],
      "execution_count": null,
      "outputs": [
        {
          "output_type": "stream",
          "text": [
            "<class 'pandas.core.frame.DataFrame'>\n",
            "RangeIndex: 13063 entries, 0 to 13062\n",
            "Data columns (total 3 columns):\n",
            " #   Column  Non-Null Count  Dtype \n",
            "---  ------  --------------  ----- \n",
            " 0   t1      13063 non-null  object\n",
            " 1   t2      13063 non-null  object\n",
            " 2   output  13063 non-null  int64 \n",
            "dtypes: int64(1), object(2)\n",
            "memory usage: 306.3+ KB\n"
          ],
          "name": "stdout"
        }
      ]
    },
    {
      "cell_type": "code",
      "metadata": {
        "colab": {
          "base_uri": "https://localhost:8080/",
          "height": 264
        },
        "id": "dKzCH0-Xdju3",
        "outputId": "219d6a2d-76ff-46d0-9d95-eec8018c3c01"
      },
      "source": [
        "ax=dev['output'].value_counts().plot.pie(explode=[0,0.1],autopct='%1.1f%%' ,shadow=True)\r\n",
        "ax.set_title('Distribution of Paraphrases')\r\n",
        "ax.set_ylabel('')\r\n",
        "plt.show()"
      ],
      "execution_count": null,
      "outputs": [
        {
          "output_type": "display_data",
          "data": {
            "image/png": "[encoded data removed]",
            "text/plain": [
              "<Figure size 432x288 with 1 Axes>"
            ]
          },
          "metadata": {
            "tags": []
          }
        }
      ]
    },
    {
      "cell_type": "code",
      "metadata": {
        "colab": {
          "base_uri": "https://localhost:8080/",
          "height": 367
        },
        "id": "pFOrjQjYdlnI",
        "outputId": "2680f139-eb1d-4a19-b162-1c2a5b14d6ee"
      },
      "source": [
        "plot_sb = sb.countplot(dev['output'], label='output')\r\n",
        "no, yes  = dev['output'].value_counts()\r\n",
        "print('paraphrase: ', yes)\r\n",
        "print('Not paraphrase : ', no)"
      ],
      "execution_count": null,
      "outputs": [
        {
          "output_type": "stream",
          "text": [
            "paraphrase:  1470\n",
            "Not paraphrase :  3257\n"
          ],
          "name": "stdout"
        },
        {
          "output_type": "stream",
          "text": [
            "/usr/local/lib/python3.7/dist-packages/seaborn/_decorators.py:43: FutureWarning: Pass the following variable as a keyword arg: x. From version 0.12, the only valid positional argument will be `data`, and passing other arguments without an explicit keyword will result in an error or misinterpretation.\n",
            "  FutureWarning\n"
          ],
          "name": "stderr"
        },
        {
          "output_type": "display_data",
          "data": {
            "image/png": "[encoded data removed]",
            "text/plain": [
              "<Figure size 432x288 with 1 Axes>"
            ]
          },
          "metadata": {
            "tags": [],
            "needs_background": "light"
          }
        }
      ]
    },
    {
      "cell_type": "code",
      "metadata": {
        "id": "cUi_AQ7TDZv9"
      },
      "source": [
        "# preprocessing tweets\r\n",
        "def clean_tweet(text):\r\n",
        "    ''' Function that is applied to every to tweet in the dataset '''\r\n",
        "\r\n",
        "    # =========== TEXT ===========\r\n",
        "    # Replace @USER by <user>\r\n",
        "    text = re.compile(r'@USER').sub(r'<user>',text)\r\n",
        "\r\n",
        "    # Replace URL by <url>\r\n",
        "    text = re.compile(r'URL').sub(r'<url>',text)\r\n",
        "\r\n",
        "    # Remove numbers :\r\n",
        "    text = re.compile(r'[0-9]+').sub(r' ',text)\r\n",
        "\r\n",
        "    # Remove some special characters\r\n",
        "    text = re.compile(r'([\\xa0_\\{\\}\\[\\]¬•$,:;/@#|\\^*%().~`”\"“-])').sub(r' ',text) \r\n",
        "\r\n",
        "    # Space the special characters with white spaces\r\n",
        "    text = re.compile(r'([$&+,:;=?@#|\\'.^*()%!\"’“-])').sub(r' \\1 ',text)\r\n",
        "\r\n",
        "    # Replace some special characters : \r\n",
        "    replace_dict = {r'&' : 'and' , r'&amp;' : 'and' , \r\n",
        "                    r'\\+' : 'plus'}\r\n",
        "    for cha in replace_dict:\r\n",
        "        text = re.compile(str(cha)).sub(str(replace_dict[cha]),text)\r\n",
        "\r\n",
        "    # Handle Emoji : translate some and delete the others\r\n",
        "    text = handle_emoji(text)\r\n",
        "\r\n",
        "    # Word delengthening : \r\n",
        "    text = re.compile(r'(.)\\1{3,}').sub(r'\\1\\1',text)\r\n",
        "\r\n",
        "    # Cut the words with caps in them : \r\n",
        "    text = re.compile(r'([a-z]+|[A-Z]+|[A-Z][a-z]+)([A-Z][a-z]+)').sub(r'\\1 \\2',text)\r\n",
        "    text = re.compile(r'([a-z]+|[A-Z]+|[A-Z][a-z]+)([A-Z][a-z]+)').sub(r'\\1 \\2',text)        \r\n",
        "    # =========== TOKENS ===========\r\n",
        "    # TOKENIZE \r\n",
        "    text = text.split(' ')\r\n",
        "\r\n",
        "    # Remove white spaces tokens\r\n",
        "    text = [text[i] for i in range(len(text)) if text[i] != ' ']\r\n",
        "\r\n",
        "    # Remove empty tokens\r\n",
        "    text = [text[i] for i in range(len(text)) if text[i] != '']\r\n",
        "\r\n",
        "    # Remove repetition in tokens (!!! => !)\r\n",
        "    text = [text[i] for i in range(len(text)) if text[i] != text[i-1]]\r\n",
        "\r\n",
        "    # Lower Case : \r\n",
        "    text = [text[i].lower() for i in range(len(text))]\r\n",
        "    \r\n",
        "    return \" \".join(str(x) for x in text)"
      ],
      "execution_count": null,
      "outputs": []
    },
    {
      "cell_type": "markdown",
      "metadata": {
        "id": "-7u80zQMGGBv"
      },
      "source": [
        "**Helper Functions**"
      ]
    },
    {
      "cell_type": "code",
      "metadata": {
        "id": "l5QS3LJMGBmk"
      },
      "source": [
        "def getConfusionMatrix(y_test, y_pred):\r\n",
        "  # Confusion matrix\r\n",
        "  mat = confusion_matrix(y_test, y_pred)\r\n",
        "  cm = pd.DataFrame(mat)\r\n",
        "  TP = cm.iloc[1,1] # True Positive\r\n",
        "  TN = cm.iloc[0,0] # True Negative\r\n",
        "  FP = cm.iloc[0,1] # False Positive\r\n",
        "  FN = cm.iloc[1,0] # False Negative\r\n",
        "\r\n",
        "  print('Sensitivity: {:.2%}'.format(TP/(FN+TP)))\r\n",
        "  print('Specificity: {:.2%}'.format(TN/(FP+TN)))\r\n",
        "  \r\n",
        "  sns.heatmap(mat.T, square=True, annot=True, fmt='d', cbar=True)\r\n",
        "  plt.title('A confusion matrix showing the frequency of misclassifications by our classifier')\r\n",
        "  plt.xlabel('true label')\r\n",
        "  plt.ylabel('predicted label');\r\n",
        "  plt.show()\r\n",
        "\r\n",
        "def overlap(s1,s2):\r\n",
        "  s = s1 + s2\r\n",
        "  s = set(s)\r\n",
        "  if len(s1) > len(s2):\r\n",
        "    min_len = len(s2)\r\n",
        "  else:\r\n",
        "    min_len = len(s1)\r\n",
        "  \r\n",
        "  if (len(s)/min_len) < 0.8 : return 0\r\n",
        "  else: return 1  "
      ],
      "execution_count": null,
      "outputs": []
    },
    {
      "cell_type": "markdown",
      "metadata": {
        "id": "9TZ2Cpdj7a9V"
      },
      "source": [
        "**Baseline Model**"
      ]
    },
    {
      "cell_type": "code",
      "metadata": {
        "id": "Qa9imIOK7ZhL"
      },
      "source": [
        "# https://cla2019.github.io/paraphrases_scikit_numpy.pdf\r\n",
        "#  Number of common words that occur in both tweets"
      ],
      "execution_count": null,
      "outputs": []
    },
    {
      "cell_type": "code",
      "metadata": {
        "id": "MHPYhoWd7Zwa"
      },
      "source": [
        "\r\n",
        "\r\n",
        "dev_prediction = []\r\n",
        "\r\n",
        "for i, row in dev.iterrows():\r\n",
        "  pred = overlap(row['t1'], row['t2'])\r\n",
        "  dev_prediction.append(pred)\r\n",
        "\r\n",
        "dev['baseline'] = dev_prediction  "
      ],
      "execution_count": null,
      "outputs": []
    },
    {
      "cell_type": "code",
      "metadata": {
        "colab": {
          "base_uri": "https://localhost:8080/",
          "height": 204
        },
        "id": "7T4-bo8f7Z6I",
        "outputId": "87eafae8-8eb0-47a0-9e3d-0b1f920fc466"
      },
      "source": [
        "dev.head()"
      ],
      "execution_count": null,
      "outputs": [
        {
          "output_type": "execute_result",
          "data": {
            "text/html": [
              "<div>\n",
              "<style scoped>\n",
              "    .dataframe tbody tr th:only-of-type {\n",
              "        vertical-align: middle;\n",
              "    }\n",
              "\n",
              "    .dataframe tbody tr th {\n",
              "        vertical-align: top;\n",
              "    }\n",
              "\n",
              "    .dataframe thead th {\n",
              "        text-align: right;\n",
              "    }\n",
              "</style>\n",
              "<table border=\"1\" class=\"dataframe\">\n",
              "  <thead>\n",
              "    <tr style=\"text-align: right;\">\n",
              "      <th></th>\n",
              "      <th>t1</th>\n",
              "      <th>t2</th>\n",
              "      <th>output</th>\n",
              "      <th>baseline</th>\n",
              "    </tr>\n",
              "  </thead>\n",
              "  <tbody>\n",
              "    <tr>\n",
              "      <th>0</th>\n",
              "      <td>A Walk to Remember is the definition of true love</td>\n",
              "      <td>A Walk to Remember is on and Im in town and Im...</td>\n",
              "      <td>0</td>\n",
              "      <td>0</td>\n",
              "    </tr>\n",
              "    <tr>\n",
              "      <th>1</th>\n",
              "      <td>A Walk to Remember is the definition of true love</td>\n",
              "      <td>A Walk to Remember is the cutest thing</td>\n",
              "      <td>1</td>\n",
              "      <td>0</td>\n",
              "    </tr>\n",
              "    <tr>\n",
              "      <th>2</th>\n",
              "      <td>A Walk to Remember is the definition of true love</td>\n",
              "      <td>A walk to remember is on ABC family youre welcome</td>\n",
              "      <td>0</td>\n",
              "      <td>0</td>\n",
              "    </tr>\n",
              "    <tr>\n",
              "      <th>3</th>\n",
              "      <td>A Walk to Remember is the definition of true love</td>\n",
              "      <td>A walk to remember is so amazing and inspiring</td>\n",
              "      <td>1</td>\n",
              "      <td>0</td>\n",
              "    </tr>\n",
              "    <tr>\n",
              "      <th>4</th>\n",
              "      <td>A Walk to Remember is the definition of true love</td>\n",
              "      <td>BUT GUYS ITS ON MY FAVE PART OF A WALK TO REME...</td>\n",
              "      <td>0</td>\n",
              "      <td>1</td>\n",
              "    </tr>\n",
              "  </tbody>\n",
              "</table>\n",
              "</div>"
            ],
            "text/plain": [
              "                                                  t1  ... baseline\n",
              "0  A Walk to Remember is the definition of true love  ...        0\n",
              "1  A Walk to Remember is the definition of true love  ...        0\n",
              "2  A Walk to Remember is the definition of true love  ...        0\n",
              "3  A Walk to Remember is the definition of true love  ...        0\n",
              "4  A Walk to Remember is the definition of true love  ...        1\n",
              "\n",
              "[5 rows x 4 columns]"
            ]
          },
          "metadata": {
            "tags": []
          },
          "execution_count": 57
        }
      ]
    },
    {
      "cell_type": "code",
      "metadata": {
        "colab": {
          "base_uri": "https://localhost:8080/"
        },
        "id": "ecDM6wwpFVLv",
        "outputId": "aed597dc-d556-4627-c9d9-2457845153f3"
      },
      "source": [
        "print(classification_report(dev['output'], dev['baseline']))"
      ],
      "execution_count": null,
      "outputs": [
        {
          "output_type": "stream",
          "text": [
            "              precision    recall  f1-score   support\n",
            "\n",
            "           0       0.62      0.43      0.51      3257\n",
            "           1       0.25      0.41      0.31      1470\n",
            "\n",
            "    accuracy                           0.43      4727\n",
            "   macro avg       0.43      0.42      0.41      4727\n",
            "weighted avg       0.51      0.43      0.45      4727\n",
            "\n"
          ],
          "name": "stdout"
        }
      ]
    },
    {
      "cell_type": "code",
      "metadata": {
        "colab": {
          "base_uri": "https://localhost:8080/",
          "height": 329
        },
        "id": "BuSRtAJrF6NU",
        "outputId": "0d07b345-2d06-45e7-ca53-4d6e5922738c"
      },
      "source": [
        "getConfusionMatrix(dev['output'], dev['baseline'])"
      ],
      "execution_count": null,
      "outputs": [
        {
          "output_type": "stream",
          "text": [
            "Sensitivity: 41.36%\n",
            "Specificity: 43.41%\n"
          ],
          "name": "stdout"
        },
        {
          "output_type": "display_data",
          "data": {
            "image/png": "[encoded data removed]",
            "text/plain": [
              "<Figure size 432x288 with 2 Axes>"
            ]
          },
          "metadata": {
            "tags": [],
            "needs_background": "light"
          }
        }
      ]
    },
    {
      "cell_type": "code",
      "metadata": {
        "colab": {
          "base_uri": "https://localhost:8080/"
        },
        "id": "3H1nCi-gGQyF",
        "outputId": "f7c41f89-175c-4c55-96cf-843b31c9d2e5"
      },
      "source": [
        "# Use accuracy_score function to get the accuracy\r\n",
        "print(\"Accuracy Score\",accuracy_score(dev['baseline'], dev['output'])*100)\r\n",
        "\r\n",
        "print('F1Score', f1_score(dev['baseline'], dev['output'], average=\"macro\"))\r\n",
        "print('Precision', precision_score(dev['baseline'], dev['output'], average=\"macro\"))\r\n",
        "print('Recall', recall_score(dev['baseline'], dev['output'], average=\"macro\"))"
      ],
      "execution_count": null,
      "outputs": [
        {
          "output_type": "stream",
          "text": [
            "Accuracy Score 42.77554474296594\n",
            "F1Score 0.4106200477688459\n",
            "Precision 0.42387364525177584\n",
            "Recall 0.43466369667988175\n"
          ],
          "name": "stdout"
        }
      ]
    },
    {
      "cell_type": "markdown",
      "metadata": {
        "id": "Fr-Oz4daKv7k"
      },
      "source": [
        "**ML Models**"
      ]
    },
    {
      "cell_type": "code",
      "metadata": {
        "id": "DQQ1LvYYKvIv"
      },
      "source": [
        "#  data transformation\r\n",
        "train[\"tweets\"] = train[\"t1\"] + train[\"t2\"]\r\n",
        "test[\"tweets\"] = test[\"t1\"] + test[\"t2\"]\r\n",
        "dev[\"tweets\"] = dev[\"t1\"] + dev[\"t2\"]\r\n",
        "\r\n",
        "X_train = train['tweets']\r\n",
        "y_train = train['output']\r\n",
        "\r\n",
        "X_test = test['tweets']\r\n",
        "y_test = test['output']\r\n",
        "\r\n",
        "X_dev = dev['tweets']\r\n",
        "y_dev = dev['output']"
      ],
      "execution_count": null,
      "outputs": []
    },
    {
      "cell_type": "code",
      "metadata": {
        "id": "bjlc8sVMRP3k"
      },
      "source": [
        "def tfidf_vectorizer(X, train_X, test_X):\r\n",
        "    \r\n",
        "    tfidf_vectorizer = TfidfVectorizer()\r\n",
        "    tfidf_vectorizer.fit(X)\r\n",
        "\r\n",
        "    train_text_features_tf = tfidf_vectorizer.transform(train_X)\r\n",
        "    test_text_features_tf = tfidf_vectorizer.transform(test_X)\r\n",
        "    \r\n",
        "    return train_text_features_tf, test_text_features_tf\r\n",
        "\r\n",
        "def model(model, train_text_features, train_y, test_text_features, test_y):\r\n",
        "        \r\n",
        "    model.fit(train_text_features, train_y)\r\n",
        "\r\n",
        "    # predict the labels on validation dataset\r\n",
        "    predictions = model.predict(test_text_features)\r\n",
        "\r\n",
        "    # Use accuracy_score function to get the accuracy\r\n",
        "    print(\"Accuracy Score \",accuracy_score(predictions, test_y)*100)\r\n",
        "\r\n",
        "    print('F1Score', f1_score(predictions, test_y, average=\"macro\"))\r\n",
        "    print('Precision', precision_score(predictions, test_y, average=\"macro\"))\r\n",
        "    print('Recall', recall_score(predictions, test_y, average=\"macro\"))\r\n",
        "\r\n",
        "    getConfusionMatrix(test_y, predictions)\r\n",
        "\r\n",
        "    print(classification_report(test_y, predictions))"
      ],
      "execution_count": null,
      "outputs": []
    },
    {
      "cell_type": "code",
      "metadata": {
        "id": "cRp9r87XjNqc"
      },
      "source": [
        "train_text_features, test_text_features = tfidf_vectorizer(X_train, X_train, X_dev)"
      ],
      "execution_count": null,
      "outputs": []
    },
    {
      "cell_type": "code",
      "metadata": {
        "colab": {
          "base_uri": "https://localhost:8080/",
          "height": 550
        },
        "id": "J29xKreeRP5t",
        "outputId": "77cd07e0-c9b7-4bc0-c729-b35015acc768"
      },
      "source": [
        "model(naive_bayes.MultinomialNB(), train_text_features, y_train, test_text_features, y_dev)"
      ],
      "execution_count": null,
      "outputs": [
        {
          "output_type": "stream",
          "text": [
            "Accuracy Score  69.21937804104083\n",
            "F1Score 0.4311990224719798\n",
            "Precision 0.5088344518034417\n",
            "Recall 0.6646073318804483\n",
            "Sensitivity: 2.38%\n",
            "Specificity: 99.39%\n"
          ],
          "name": "stdout"
        },
        {
          "output_type": "display_data",
          "data": {
            "image/png": "[encoded data removed]",
            "text/plain": [
              "<Figure size 432x288 with 2 Axes>"
            ]
          },
          "metadata": {
            "tags": [],
            "needs_background": "light"
          }
        },
        {
          "output_type": "stream",
          "text": [
            "              precision    recall  f1-score   support\n",
            "\n",
            "           0       0.69      0.99      0.82      3257\n",
            "           1       0.64      0.02      0.05      1470\n",
            "\n",
            "    accuracy                           0.69      4727\n",
            "   macro avg       0.66      0.51      0.43      4727\n",
            "weighted avg       0.68      0.69      0.58      4727\n",
            "\n"
          ],
          "name": "stdout"
        }
      ]
    },
    {
      "cell_type": "code",
      "metadata": {
        "colab": {
          "base_uri": "https://localhost:8080/",
          "height": 550
        },
        "id": "taye_MpPUEG-",
        "outputId": "39053d17-c006-4f76-d8ad-4c368e004414"
      },
      "source": [
        "model(svm.SVC(C=1.0, kernel='linear', degree=3, gamma='auto'), train_text_features, y_train, test_text_features, y_dev)"
      ],
      "execution_count": null,
      "outputs": [
        {
          "output_type": "stream",
          "text": [
            "Accuracy Score  68.7539665749947\n",
            "F1Score 0.44413229305871865\n",
            "Precision 0.5103092449752391\n",
            "Recall 0.5832153177485324\n",
            "Sensitivity: 4.15%\n",
            "Specificity: 97.91%\n"
          ],
          "name": "stdout"
        },
        {
          "output_type": "display_data",
          "data": {
            "image/png": "[encoded data removed]",
            "text/plain": [
              "<Figure size 432x288 with 2 Axes>"
            ]
          },
          "metadata": {
            "tags": [],
            "needs_background": "light"
          }
        },
        {
          "output_type": "stream",
          "text": [
            "              precision    recall  f1-score   support\n",
            "\n",
            "           0       0.69      0.98      0.81      3257\n",
            "           1       0.47      0.04      0.08      1470\n",
            "\n",
            "    accuracy                           0.69      4727\n",
            "   macro avg       0.58      0.51      0.44      4727\n",
            "weighted avg       0.62      0.69      0.58      4727\n",
            "\n"
          ],
          "name": "stdout"
        }
      ]
    },
    {
      "cell_type": "code",
      "metadata": {
        "colab": {
          "base_uri": "https://localhost:8080/",
          "height": 550
        },
        "id": "cgypxp8aUEI-",
        "outputId": "197c8191-4af9-4441-9482-df0a93236720"
      },
      "source": [
        "model(RandomForestClassifier(n_estimators=100, max_depth=20,random_state=0), train_text_features, y_train, test_text_features, y_dev)"
      ],
      "execution_count": null,
      "outputs": [
        {
          "output_type": "stream",
          "text": [
            "Accuracy Score  68.92320710810239\n",
            "F1Score 0.40867179261709513\n",
            "Precision 0.5003401360544217\n",
            "Recall 0.8445831570038087\n",
            "Sensitivity: 0.07%\n",
            "Specificity: 100.00%\n"
          ],
          "name": "stdout"
        },
        {
          "output_type": "display_data",
          "data": {
            "image/png": "[encoded data removed]",
            "text/plain": [
              "<Figure size 432x288 with 2 Axes>"
            ]
          },
          "metadata": {
            "tags": [],
            "needs_background": "light"
          }
        },
        {
          "output_type": "stream",
          "text": [
            "              precision    recall  f1-score   support\n",
            "\n",
            "           0       0.69      1.00      0.82      3257\n",
            "           1       1.00      0.00      0.00      1470\n",
            "\n",
            "    accuracy                           0.69      4727\n",
            "   macro avg       0.84      0.50      0.41      4727\n",
            "weighted avg       0.79      0.69      0.56      4727\n",
            "\n"
          ],
          "name": "stdout"
        }
      ]
    },
    {
      "cell_type": "code",
      "metadata": {
        "id": "y2ZMH5f3UEPH"
      },
      "source": [
        ""
      ],
      "execution_count": null,
      "outputs": []
    },
    {
      "cell_type": "markdown",
      "metadata": {
        "id": "w6I0H-4Aj3UA"
      },
      "source": [
        "**Word Embeddings**"
      ]
    },
    {
      "cell_type": "code",
      "metadata": {
        "id": "G7sHZNlYdstx"
      },
      "source": [
        "pip install zeugma > /dev/null"
      ],
      "execution_count": null,
      "outputs": []
    },
    {
      "cell_type": "code",
      "metadata": {
        "colab": {
          "base_uri": "https://localhost:8080/"
        },
        "id": "ShrtioXbeIk1",
        "outputId": "e1b3937f-4c81-47ba-cde3-1573fb64dfa5"
      },
      "source": [
        "#https://stackoverflow.com/questions/55198750/using-pretrained-glove-word-embedding-with-scikit-learn\r\n",
        "from zeugma.embeddings import EmbeddingTransformer\r\n",
        "glove = EmbeddingTransformer('conceptnet-numberbatch-17-06-300')"
      ],
      "execution_count": null,
      "outputs": [
        {
          "output_type": "stream",
          "text": [
            "[=================================================-] 99.3% 1161.1/1168.7MB downloaded\n"
          ],
          "name": "stdout"
        }
      ]
    },
    {
      "cell_type": "code",
      "metadata": {
        "id": "RJ35QeEweSpZ"
      },
      "source": [
        "train_text_features = glove.transform(X_train)\r\n",
        "test_text_features = glove.transform(X_dev)"
      ],
      "execution_count": null,
      "outputs": []
    },
    {
      "cell_type": "code",
      "metadata": {
        "id": "lRD6IFcmpTOo"
      },
      "source": [
        ""
      ],
      "execution_count": null,
      "outputs": []
    },
    {
      "cell_type": "code",
      "metadata": {
        "colab": {
          "base_uri": "https://localhost:8080/",
          "height": 638
        },
        "id": "l_1Ky-ZYfUAH",
        "outputId": "4d4f0d46-ac68-48f3-c96d-a01ef789301b"
      },
      "source": [
        "model(svm.SVC(C=1.0, kernel='linear', degree=3, gamma='auto'), train_text_features, y_train, test_text_features, y_dev)"
      ],
      "execution_count": null,
      "outputs": [
        {
          "output_type": "stream",
          "text": [
            "Accuracy Score  68.90205204146393\n",
            "F1Score 0.40794088176352705\n",
            "Precision 0.5\n",
            "Recall 0.3445102602073197\n",
            "Sensitivity: 0.00%\n",
            "Specificity: 100.00%\n"
          ],
          "name": "stdout"
        },
        {
          "output_type": "stream",
          "text": [
            "/usr/local/lib/python3.7/dist-packages/sklearn/metrics/_classification.py:1272: UndefinedMetricWarning: Recall is ill-defined and being set to 0.0 in labels with no true samples. Use `zero_division` parameter to control this behavior.\n",
            "  _warn_prf(average, modifier, msg_start, len(result))\n"
          ],
          "name": "stderr"
        },
        {
          "output_type": "display_data",
          "data": {
            "image/png": "[encoded data removed]",
            "text/plain": [
              "<Figure size 432x288 with 2 Axes>"
            ]
          },
          "metadata": {
            "tags": [],
            "needs_background": "light"
          }
        },
        {
          "output_type": "stream",
          "text": [
            "              precision    recall  f1-score   support\n",
            "\n",
            "           0       0.69      1.00      0.82      3257\n",
            "           1       0.00      0.00      0.00      1470\n",
            "\n",
            "    accuracy                           0.69      4727\n",
            "   macro avg       0.34      0.50      0.41      4727\n",
            "weighted avg       0.47      0.69      0.56      4727\n",
            "\n"
          ],
          "name": "stdout"
        },
        {
          "output_type": "stream",
          "text": [
            "/usr/local/lib/python3.7/dist-packages/sklearn/metrics/_classification.py:1272: UndefinedMetricWarning: Precision and F-score are ill-defined and being set to 0.0 in labels with no predicted samples. Use `zero_division` parameter to control this behavior.\n",
            "  _warn_prf(average, modifier, msg_start, len(result))\n"
          ],
          "name": "stderr"
        }
      ]
    },
    {
      "cell_type": "code",
      "metadata": {
        "id": "m86uYPdJky57"
      },
      "source": [
        ""
      ],
      "execution_count": null,
      "outputs": []
    }
  ]
}