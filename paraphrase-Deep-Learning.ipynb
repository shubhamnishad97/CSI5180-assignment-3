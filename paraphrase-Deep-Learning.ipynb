{
  "nbformat": 4,
  "nbformat_minor": 0,
  "metadata": {
    "colab": {
      "name": "paraphrase-DL.ipynb",
      "provenance": [],
      "collapsed_sections": []
    },
    "kernelspec": {
      "name": "python3",
      "display_name": "Python 3"
    }
  },
  "cells": [
    {
      "cell_type": "code",
      "metadata": {
        "colab": {
          "base_uri": "https://localhost:8080/"
        },
        "id": "tLS78Y_BdA6S",
        "outputId": "f606b73f-fc7f-4494-e4f9-fced96f000c0"
      },
      "source": [
        "import pandas as pd\r\n",
        "import seaborn as sb\r\n",
        "import numpy as np\r\n",
        "\r\n",
        "import matplotlib.pyplot as plt\r\n",
        "\r\n",
        "import os\r\n",
        "import nltk\r\n",
        "from nltk.corpus import stopwords\r\n",
        "import seaborn as sns\r\n",
        "from sklearn.metrics import f1_score\r\n",
        "from sklearn.model_selection import KFold\r\n",
        "from sklearn.feature_extraction.text import TfidfVectorizer,CountVectorizer\r\n",
        "from sklearn.linear_model import LogisticRegression\r\n",
        "from sklearn.model_selection import cross_val_score\r\n",
        "from sklearn.ensemble import RandomForestClassifier\r\n",
        "from sklearn.naive_bayes import GaussianNB,MultinomialNB,ComplementNB,BernoulliNB\r\n",
        "import re\r\n",
        "from collections import Counter\r\n",
        "from sklearn.datasets import make_classification\r\n",
        "\r\n",
        "from imblearn.under_sampling import RandomUnderSampler\r\n",
        "from sklearn import model_selection, naive_bayes, svm\r\n",
        "from sklearn.metrics import accuracy_score\r\n",
        "from sklearn.metrics import accuracy_score, f1_score, precision_score, recall_score, classification_report, confusion_matrix\r\n",
        "\r\n",
        "from nltk import FreqDist\r\n",
        "import nltk\r\n",
        "nltk.download('stopwords')\r\n",
        "nltk.download('punkt')\r\n",
        "from nltk.tokenize import sent_tokenize, word_tokenize\r\n",
        "from nltk.corpus import stopwords\r\n",
        "\r\n",
        "import os\r\n",
        "import time\r\n",
        "import numpy as np # linear algebra\r\n",
        "import pandas as pd # data processing, CSV file I/O (e.g. pd.read_csv)\r\n",
        "from tqdm import tqdm\r\n",
        "import math\r\n",
        "from sklearn.model_selection import train_test_split\r\n",
        "from sklearn import metrics\r\n",
        "import gc\r\n",
        "import matplotlib.pyplot as plt\r\n",
        "\r\n",
        "from keras.preprocessing.text import Tokenizer\r\n",
        "from keras.preprocessing.sequence import pad_sequences\r\n",
        "from keras.layers import Dense, Input, LSTM, Embedding, Dropout, Activation, Conv1D, concatenate\r\n",
        "from keras.layers import Bidirectional, GlobalMaxPool1D, Dropout, SpatialDropout1D, GlobalAveragePooling1D, GlobalMaxPooling1D\r\n",
        "from keras.models import Model\r\n",
        "from keras import initializers, regularizers, constraints, optimizers, layers"
      ],
      "execution_count": null,
      "outputs": [
        {
          "output_type": "stream",
          "text": [
            "[nltk_data] Downloading package stopwords to /root/nltk_data...\n",
            "[nltk_data]   Package stopwords is already up-to-date!\n",
            "[nltk_data] Downloading package punkt to /root/nltk_data...\n",
            "[nltk_data]   Package punkt is already up-to-date!\n"
          ],
          "name": "stdout"
        }
      ]
    },
    {
      "cell_type": "markdown",
      "metadata": {
        "id": "rjP_4h1o4g8H"
      },
      "source": [
        "**Loading Data**"
      ]
    },
    {
      "cell_type": "code",
      "metadata": {
        "colab": {
          "base_uri": "https://localhost:8080/"
        },
        "id": "i5XIcFtndU5n",
        "outputId": "102c0bd3-e2a1-441f-de9b-e68171696458"
      },
      "source": [
        "colnames=['id','name','t1', 't2', 'output', 'POSt1','POSt2'] \r\n",
        "\r\n",
        "train = pd.read_csv(\"train.data\", error_bad_lines=False, sep='\\t', names=colnames, header=None)\r\n",
        "print(\"train data: {}\".format(train.shape))\r\n",
        "\r\n",
        "test = pd.read_csv(\"test.data\", error_bad_lines=False, sep='\\t', names=colnames, header=None)\r\n",
        "print(\"test data: {}\".format(test.shape))\r\n",
        "\r\n",
        "dev = pd.read_csv(\"dev.data\", error_bad_lines=False, sep='\\t', names=colnames, header=None)\r\n",
        "print(\"dev data: {}\".format(dev.shape))"
      ],
      "execution_count": null,
      "outputs": [
        {
          "output_type": "stream",
          "text": [
            "train data: (13063, 7)\n",
            "test data: (972, 7)\n",
            "dev data: (4727, 7)\n"
          ],
          "name": "stdout"
        }
      ]
    },
    {
      "cell_type": "code",
      "metadata": {
        "colab": {
          "base_uri": "https://localhost:8080/",
          "height": 306
        },
        "id": "Z3QHZNigdZtp",
        "outputId": "d6fdac5f-5fb6-4741-9375-b1bba07de566"
      },
      "source": [
        "train.head()"
      ],
      "execution_count": null,
      "outputs": [
        {
          "output_type": "execute_result",
          "data": {
            "text/html": [
              "<div>\n",
              "<style scoped>\n",
              "    .dataframe tbody tr th:only-of-type {\n",
              "        vertical-align: middle;\n",
              "    }\n",
              "\n",
              "    .dataframe tbody tr th {\n",
              "        vertical-align: top;\n",
              "    }\n",
              "\n",
              "    .dataframe thead th {\n",
              "        text-align: right;\n",
              "    }\n",
              "</style>\n",
              "<table border=\"1\" class=\"dataframe\">\n",
              "  <thead>\n",
              "    <tr style=\"text-align: right;\">\n",
              "      <th></th>\n",
              "      <th>id</th>\n",
              "      <th>name</th>\n",
              "      <th>t1</th>\n",
              "      <th>t2</th>\n",
              "      <th>output</th>\n",
              "      <th>POSt1</th>\n",
              "      <th>POSt2</th>\n",
              "    </tr>\n",
              "  </thead>\n",
              "  <tbody>\n",
              "    <tr>\n",
              "      <th>0</th>\n",
              "      <td>4</td>\n",
              "      <td>1st QB</td>\n",
              "      <td>EJ Manuel the 1st QB to go in this draft</td>\n",
              "      <td>But my bro from the 757 EJ Manuel is the 1st Q...</td>\n",
              "      <td>(5, 0)</td>\n",
              "      <td>EJ/B-person/NNP/B-NP/O Manuel/I-person/NNP/B-V...</td>\n",
              "      <td>But/O/CC/O/O my/O/PRP$/B-NP/O bro/O/NN/I-NP/O ...</td>\n",
              "    </tr>\n",
              "    <tr>\n",
              "      <th>1</th>\n",
              "      <td>4</td>\n",
              "      <td>1st QB</td>\n",
              "      <td>EJ Manuel the 1st QB to go in this draft</td>\n",
              "      <td>Can believe EJ Manuel went as the 1st QB in th...</td>\n",
              "      <td>(5, 0)</td>\n",
              "      <td>EJ/B-person/NNP/B-NP/O Manuel/I-person/NNP/B-V...</td>\n",
              "      <td>Can/O/MD/B-VP/O believe/O/VB/I-VP/B-EVENT EJ/B...</td>\n",
              "    </tr>\n",
              "    <tr>\n",
              "      <th>2</th>\n",
              "      <td>4</td>\n",
              "      <td>1st QB</td>\n",
              "      <td>EJ Manuel the 1st QB to go in this draft</td>\n",
              "      <td>EJ MANUEL IS THE 1ST QB what</td>\n",
              "      <td>(3, 2)</td>\n",
              "      <td>EJ/B-person/NNP/B-NP/O Manuel/I-person/NNP/B-V...</td>\n",
              "      <td>EJ/B-person/NNP/B-NP/O MANUEL/I-person/NNP/I-N...</td>\n",
              "    </tr>\n",
              "    <tr>\n",
              "      <th>3</th>\n",
              "      <td>4</td>\n",
              "      <td>1st QB</td>\n",
              "      <td>EJ Manuel the 1st QB to go in this draft</td>\n",
              "      <td>EJ da 1st QB off da board</td>\n",
              "      <td>(2, 3)</td>\n",
              "      <td>EJ/B-person/NNP/B-NP/O Manuel/I-person/NNP/B-V...</td>\n",
              "      <td>EJ/O/NNP/B-NP/O da/O/DT/I-NP/O 1st/O/CD/I-NP/O...</td>\n",
              "    </tr>\n",
              "    <tr>\n",
              "      <th>4</th>\n",
              "      <td>4</td>\n",
              "      <td>1st QB</td>\n",
              "      <td>EJ Manuel the 1st QB to go in this draft</td>\n",
              "      <td>Manuel is the 1st QB to get drafted</td>\n",
              "      <td>(4, 1)</td>\n",
              "      <td>EJ/B-person/NNP/B-NP/O Manuel/I-person/NNP/B-V...</td>\n",
              "      <td>Manuel/B-person/NNP/B-NP/O is/O/VBZ/B-VP/O the...</td>\n",
              "    </tr>\n",
              "  </tbody>\n",
              "</table>\n",
              "</div>"
            ],
            "text/plain": [
              "   id  ...                                              POSt2\n",
              "0   4  ...  But/O/CC/O/O my/O/PRP$/B-NP/O bro/O/NN/I-NP/O ...\n",
              "1   4  ...  Can/O/MD/B-VP/O believe/O/VB/I-VP/B-EVENT EJ/B...\n",
              "2   4  ...  EJ/B-person/NNP/B-NP/O MANUEL/I-person/NNP/I-N...\n",
              "3   4  ...  EJ/O/NNP/B-NP/O da/O/DT/I-NP/O 1st/O/CD/I-NP/O...\n",
              "4   4  ...  Manuel/B-person/NNP/B-NP/O is/O/VBZ/B-VP/O the...\n",
              "\n",
              "[5 rows x 7 columns]"
            ]
          },
          "metadata": {
            "tags": []
          },
          "execution_count": 6
        }
      ]
    },
    {
      "cell_type": "code",
      "metadata": {
        "id": "NaTCrSi7dboD"
      },
      "source": [
        "cols_of_interest = ['t1', 't2', 'output']\r\n",
        "\r\n",
        "train = train[cols_of_interest]\r\n",
        "test = test[cols_of_interest]\r\n",
        "dev = dev[cols_of_interest]"
      ],
      "execution_count": null,
      "outputs": []
    },
    {
      "cell_type": "code",
      "metadata": {
        "colab": {
          "base_uri": "https://localhost:8080/",
          "height": 204
        },
        "id": "Fp4RRGG0ddPV",
        "outputId": "22c4861a-618c-4a50-e341-6049653cb7e7"
      },
      "source": [
        "train.head()"
      ],
      "execution_count": null,
      "outputs": [
        {
          "output_type": "execute_result",
          "data": {
            "text/html": [
              "<div>\n",
              "<style scoped>\n",
              "    .dataframe tbody tr th:only-of-type {\n",
              "        vertical-align: middle;\n",
              "    }\n",
              "\n",
              "    .dataframe tbody tr th {\n",
              "        vertical-align: top;\n",
              "    }\n",
              "\n",
              "    .dataframe thead th {\n",
              "        text-align: right;\n",
              "    }\n",
              "</style>\n",
              "<table border=\"1\" class=\"dataframe\">\n",
              "  <thead>\n",
              "    <tr style=\"text-align: right;\">\n",
              "      <th></th>\n",
              "      <th>t1</th>\n",
              "      <th>t2</th>\n",
              "      <th>output</th>\n",
              "    </tr>\n",
              "  </thead>\n",
              "  <tbody>\n",
              "    <tr>\n",
              "      <th>0</th>\n",
              "      <td>EJ Manuel the 1st QB to go in this draft</td>\n",
              "      <td>But my bro from the 757 EJ Manuel is the 1st Q...</td>\n",
              "      <td>(5, 0)</td>\n",
              "    </tr>\n",
              "    <tr>\n",
              "      <th>1</th>\n",
              "      <td>EJ Manuel the 1st QB to go in this draft</td>\n",
              "      <td>Can believe EJ Manuel went as the 1st QB in th...</td>\n",
              "      <td>(5, 0)</td>\n",
              "    </tr>\n",
              "    <tr>\n",
              "      <th>2</th>\n",
              "      <td>EJ Manuel the 1st QB to go in this draft</td>\n",
              "      <td>EJ MANUEL IS THE 1ST QB what</td>\n",
              "      <td>(3, 2)</td>\n",
              "    </tr>\n",
              "    <tr>\n",
              "      <th>3</th>\n",
              "      <td>EJ Manuel the 1st QB to go in this draft</td>\n",
              "      <td>EJ da 1st QB off da board</td>\n",
              "      <td>(2, 3)</td>\n",
              "    </tr>\n",
              "    <tr>\n",
              "      <th>4</th>\n",
              "      <td>EJ Manuel the 1st QB to go in this draft</td>\n",
              "      <td>Manuel is the 1st QB to get drafted</td>\n",
              "      <td>(4, 1)</td>\n",
              "    </tr>\n",
              "  </tbody>\n",
              "</table>\n",
              "</div>"
            ],
            "text/plain": [
              "                                         t1  ...  output\n",
              "0  EJ Manuel the 1st QB to go in this draft  ...  (5, 0)\n",
              "1  EJ Manuel the 1st QB to go in this draft  ...  (5, 0)\n",
              "2  EJ Manuel the 1st QB to go in this draft  ...  (3, 2)\n",
              "3  EJ Manuel the 1st QB to go in this draft  ...  (2, 3)\n",
              "4  EJ Manuel the 1st QB to go in this draft  ...  (4, 1)\n",
              "\n",
              "[5 rows x 3 columns]"
            ]
          },
          "metadata": {
            "tags": []
          },
          "execution_count": 8
        }
      ]
    },
    {
      "cell_type": "code",
      "metadata": {
        "id": "lSgwixPRdesg"
      },
      "source": [
        "# converting to binary\r\n",
        "# paraphrases: (3, 2) (4, 1) (5, 0)\r\n",
        "# non-paraphrases: (1, 4) (0, 5)\r\n",
        "# debatable: (2, 3)  which you may discard if training binary classifier\r\n",
        "\r\n",
        "# paraphrase: 1\r\n",
        "# not-paraphrase: 0\r\n",
        "def binary(x):\r\n",
        "    if x > 2: return 1\r\n",
        "    else: return 0\r\n",
        "\r\n",
        "train['output'] = train['output'].apply(lambda x: binary(int(x[1])))\r\n",
        "dev['output'] = dev['output'].apply(lambda x: binary(int(x[1])))"
      ],
      "execution_count": null,
      "outputs": []
    },
    {
      "cell_type": "code",
      "metadata": {
        "colab": {
          "base_uri": "https://localhost:8080/",
          "height": 204
        },
        "id": "98hXRMWX6uoC",
        "outputId": "9515fea1-6f7b-49b3-f907-daf7d8632270"
      },
      "source": [
        "dev.head()"
      ],
      "execution_count": null,
      "outputs": [
        {
          "output_type": "execute_result",
          "data": {
            "text/html": [
              "<div>\n",
              "<style scoped>\n",
              "    .dataframe tbody tr th:only-of-type {\n",
              "        vertical-align: middle;\n",
              "    }\n",
              "\n",
              "    .dataframe tbody tr th {\n",
              "        vertical-align: top;\n",
              "    }\n",
              "\n",
              "    .dataframe thead th {\n",
              "        text-align: right;\n",
              "    }\n",
              "</style>\n",
              "<table border=\"1\" class=\"dataframe\">\n",
              "  <thead>\n",
              "    <tr style=\"text-align: right;\">\n",
              "      <th></th>\n",
              "      <th>t1</th>\n",
              "      <th>t2</th>\n",
              "      <th>output</th>\n",
              "    </tr>\n",
              "  </thead>\n",
              "  <tbody>\n",
              "    <tr>\n",
              "      <th>0</th>\n",
              "      <td>A Walk to Remember is the definition of true love</td>\n",
              "      <td>A Walk to Remember is on and Im in town and Im...</td>\n",
              "      <td>0</td>\n",
              "    </tr>\n",
              "    <tr>\n",
              "      <th>1</th>\n",
              "      <td>A Walk to Remember is the definition of true love</td>\n",
              "      <td>A Walk to Remember is the cutest thing</td>\n",
              "      <td>1</td>\n",
              "    </tr>\n",
              "    <tr>\n",
              "      <th>2</th>\n",
              "      <td>A Walk to Remember is the definition of true love</td>\n",
              "      <td>A walk to remember is on ABC family youre welcome</td>\n",
              "      <td>0</td>\n",
              "    </tr>\n",
              "    <tr>\n",
              "      <th>3</th>\n",
              "      <td>A Walk to Remember is the definition of true love</td>\n",
              "      <td>A walk to remember is so amazing and inspiring</td>\n",
              "      <td>1</td>\n",
              "    </tr>\n",
              "    <tr>\n",
              "      <th>4</th>\n",
              "      <td>A Walk to Remember is the definition of true love</td>\n",
              "      <td>BUT GUYS ITS ON MY FAVE PART OF A WALK TO REME...</td>\n",
              "      <td>0</td>\n",
              "    </tr>\n",
              "  </tbody>\n",
              "</table>\n",
              "</div>"
            ],
            "text/plain": [
              "                                                  t1  ... output\n",
              "0  A Walk to Remember is the definition of true love  ...      0\n",
              "1  A Walk to Remember is the definition of true love  ...      1\n",
              "2  A Walk to Remember is the definition of true love  ...      0\n",
              "3  A Walk to Remember is the definition of true love  ...      1\n",
              "4  A Walk to Remember is the definition of true love  ...      0\n",
              "\n",
              "[5 rows x 3 columns]"
            ]
          },
          "metadata": {
            "tags": []
          },
          "execution_count": 14
        }
      ]
    },
    {
      "cell_type": "code",
      "metadata": {
        "colab": {
          "base_uri": "https://localhost:8080/"
        },
        "id": "oH4E27x3dhtC",
        "outputId": "3bfed37f-ca2c-44f7-d09c-23ab43e81bdb"
      },
      "source": [
        "train.info()"
      ],
      "execution_count": null,
      "outputs": [
        {
          "output_type": "stream",
          "text": [
            "<class 'pandas.core.frame.DataFrame'>\n",
            "RangeIndex: 13063 entries, 0 to 13062\n",
            "Data columns (total 3 columns):\n",
            " #   Column  Non-Null Count  Dtype \n",
            "---  ------  --------------  ----- \n",
            " 0   t1      13063 non-null  object\n",
            " 1   t2      13063 non-null  object\n",
            " 2   output  13063 non-null  int64 \n",
            "dtypes: int64(1), object(2)\n",
            "memory usage: 306.3+ KB\n"
          ],
          "name": "stdout"
        }
      ]
    },
    {
      "cell_type": "code",
      "metadata": {
        "colab": {
          "base_uri": "https://localhost:8080/",
          "height": 264
        },
        "id": "dKzCH0-Xdju3",
        "outputId": "61a55126-f16f-4962-d11f-bb8dd98b7bf3"
      },
      "source": [
        "ax=dev['output'].value_counts().plot.pie(explode=[0,0.1],autopct='%1.1f%%' ,shadow=True)\r\n",
        "ax.set_title('Distribution of Paraphrases')\r\n",
        "ax.set_ylabel('')\r\n",
        "plt.show()"
      ],
      "execution_count": null,
      "outputs": [
        {
          "output_type": "display_data",
          "data": {
            "image/png": "[encoded data removed]",
            "text/plain": [
              "<Figure size 432x288 with 1 Axes>"
            ]
          },
          "metadata": {
            "tags": []
          }
        }
      ]
    },
    {
      "cell_type": "code",
      "metadata": {
        "colab": {
          "base_uri": "https://localhost:8080/",
          "height": 367
        },
        "id": "pFOrjQjYdlnI",
        "outputId": "71eca4d3-5ef9-4425-e4ec-52ab2f3a5ad7"
      },
      "source": [
        "plot_sb = sb.countplot(dev['output'], label='output')\r\n",
        "no, yes  = dev['output'].value_counts()\r\n",
        "print('paraphrase: ', yes)\r\n",
        "print('Not paraphrase : ', no)"
      ],
      "execution_count": null,
      "outputs": [
        {
          "output_type": "stream",
          "text": [
            "paraphrase:  1470\n",
            "Not paraphrase :  3257\n"
          ],
          "name": "stdout"
        },
        {
          "output_type": "stream",
          "text": [
            "/usr/local/lib/python3.7/dist-packages/seaborn/_decorators.py:43: FutureWarning: Pass the following variable as a keyword arg: x. From version 0.12, the only valid positional argument will be `data`, and passing other arguments without an explicit keyword will result in an error or misinterpretation.\n",
            "  FutureWarning\n"
          ],
          "name": "stderr"
        },
        {
          "output_type": "display_data",
          "data": {
            "image/png": "[encoded data removed]",
            "text/plain": [
              "<Figure size 432x288 with 1 Axes>"
            ]
          },
          "metadata": {
            "tags": [],
            "needs_background": "light"
          }
        }
      ]
    },
    {
      "cell_type": "markdown",
      "metadata": {
        "id": "-7u80zQMGGBv"
      },
      "source": [
        "**Helper Functions**"
      ]
    },
    {
      "cell_type": "code",
      "metadata": {
        "id": "l5QS3LJMGBmk"
      },
      "source": [
        "def getConfusionMatrix(y_test, y_pred):\r\n",
        "  # Confusion matrix\r\n",
        "  mat = confusion_matrix(y_test, y_pred)\r\n",
        "  cm = pd.DataFrame(mat)\r\n",
        "  TP = cm.iloc[1,1] # True Positive\r\n",
        "  TN = cm.iloc[0,0] # True Negative\r\n",
        "  FP = cm.iloc[0,1] # False Positive\r\n",
        "  FN = cm.iloc[1,0] # False Negative\r\n",
        "\r\n",
        "  print('Sensitivity: {:.2%}'.format(TP/(FN+TP)))\r\n",
        "  print('Specificity: {:.2%}'.format(TN/(FP+TN)))\r\n",
        "  \r\n",
        "  sns.heatmap(mat.T, square=True, annot=True, fmt='d', cbar=True)\r\n",
        "  plt.title('A confusion matrix showing the frequency of misclassifications by our classifier')\r\n",
        "  plt.xlabel('true label')\r\n",
        "  plt.ylabel('predicted label');\r\n",
        "  plt.show()\r\n",
        "\r\n",
        "def overlap(s1,s2):\r\n",
        "  s = s1 + s2\r\n",
        "  s = set(s)\r\n",
        "  if len(s1) > len(s2):\r\n",
        "    min_len = len(s2)\r\n",
        "  else:\r\n",
        "    min_len = len(s1)\r\n",
        "  \r\n",
        "  if (len(s)/min_len) < 0.8 : return 0\r\n",
        "  else: return 1  "
      ],
      "execution_count": null,
      "outputs": []
    },
    {
      "cell_type": "code",
      "metadata": {
        "id": "IwxUlScMOan0"
      },
      "source": [
        "def plotting(history):\r\n",
        "    plt.plot(history.history['accuracy'])\r\n",
        "    plt.plot(history.history['val_accuracy'])\r\n",
        "    plt.title('model accuracy')\r\n",
        "    plt.ylabel('accuracy')\r\n",
        "    plt.xlabel('epoch')\r\n",
        "    plt.legend(['train', 'validation'], loc='upper left')\r\n",
        "    plt.show()\r\n",
        "\r\n",
        "    # summarize history for loss\r\n",
        "    plt.plot(history.history['loss'])\r\n",
        "    plt.plot(history.history['val_loss'])\r\n",
        "    plt.title('model loss')\r\n",
        "    plt.ylabel('loss')\r\n",
        "    plt.xlabel('epoch')\r\n",
        "    plt.legend(['train', 'validation'], loc='upper left')\r\n",
        "    plt.show()"
      ],
      "execution_count": null,
      "outputs": []
    },
    {
      "cell_type": "markdown",
      "metadata": {
        "id": "Fr-Oz4daKv7k"
      },
      "source": [
        "**Deep Learning Model**"
      ]
    },
    {
      "cell_type": "code",
      "metadata": {
        "id": "TK2IkZidWe3e"
      },
      "source": [
        "# merging the two tweets as a single input\r\n",
        "\r\n",
        "train[\"tweets\"] = train[\"t1\"] + train[\"t2\"]\r\n",
        "test[\"tweets\"] = test[\"t1\"] + test[\"t2\"]\r\n",
        "dev[\"tweets\"] = dev[\"t1\"] + dev[\"t2\"]\r\n",
        "\r\n",
        "train_X = train['tweets']\r\n",
        "train_y = train['output']\r\n",
        "\r\n",
        "val_X = dev['tweets']\r\n",
        "val_y = dev['output']\r\n",
        "\r\n",
        "test_X = test['tweets']\r\n",
        "test_y = test['output']"
      ],
      "execution_count": null,
      "outputs": []
    },
    {
      "cell_type": "code",
      "metadata": {
        "id": "hQYoW8gZQvAI"
      },
      "source": [
        "max_features = 50000 # how many unique words to use (i.e num rows in embedding vector)\r\n",
        "maxlen = 500 # max number of words in a question to use\r\n"
      ],
      "execution_count": null,
      "outputs": []
    },
    {
      "cell_type": "code",
      "metadata": {
        "id": "GL7myGycQw7r"
      },
      "source": [
        "tokenizer = Tokenizer(num_words=max_features)\r\n",
        "tokenizer.fit_on_texts(list(train_X))\r\n",
        "train_X = tokenizer.texts_to_sequences(train_X)\r\n",
        "val_X = tokenizer.texts_to_sequences(val_X)\r\n",
        "test_X = tokenizer.texts_to_sequences(test_X)"
      ],
      "execution_count": null,
      "outputs": []
    },
    {
      "cell_type": "code",
      "metadata": {
        "id": "4Ko4aqRfQ0i9"
      },
      "source": [
        "train_X = pad_sequences(train_X, maxlen=maxlen)\r\n",
        "test_X = pad_sequences(test_X, maxlen=maxlen)\r\n",
        "val_X = pad_sequences(val_X, maxlen=maxlen)"
      ],
      "execution_count": null,
      "outputs": []
    },
    {
      "cell_type": "code",
      "metadata": {
        "id": "rROuwNZdQ5zk"
      },
      "source": [
        "S_DROPOUT = 0.4\r\n",
        "DROPOUT = 0.1"
      ],
      "execution_count": null,
      "outputs": []
    },
    {
      "cell_type": "code",
      "metadata": {
        "id": "m86uYPdJky57"
      },
      "source": [
        "embed_size = 200"
      ],
      "execution_count": null,
      "outputs": []
    },
    {
      "cell_type": "code",
      "metadata": {
        "id": "d_tetSRTOxsn"
      },
      "source": [
        "from numpy import asarray\r\n",
        "# load the whole embedding into memory\r\n",
        "embeddings_index = dict()\r\n",
        "f = open('glove.twitter.27B.200d.txt', encoding=\"utf8\")\r\n",
        "for line in f:\r\n",
        "  values = line.split()\r\n",
        "  word = values[0]\r\n",
        "  coefs = asarray(values[1:], dtype='float32')\r\n",
        "  embeddings_index[word] = coefs\r\n",
        "f.close()"
      ],
      "execution_count": null,
      "outputs": []
    },
    {
      "cell_type": "code",
      "metadata": {
        "id": "geM5vwaKQINx"
      },
      "source": [
        "from numpy import zeros\r\n",
        "# create a weight matrix for words in training data\r\n",
        "embedding_matrix = zeros((max_features, embed_size))\r\n",
        "for word, i in tokenizer.word_index.items():\r\n",
        "  if i >= max_features: continue\r\n",
        "  embedding_vector = embeddings_index.get(word)\r\n",
        "  if embedding_vector is not None:\r\n",
        "    embedding_matrix[i] = embedding_vector"
      ],
      "execution_count": null,
      "outputs": []
    },
    {
      "cell_type": "code",
      "metadata": {
        "colab": {
          "base_uri": "https://localhost:8080/"
        },
        "id": "74gWBiGUQKif",
        "outputId": "4eb4f576-37c0-4eed-a8a0-b3329e9964ae"
      },
      "source": [
        "#defining the model\r\n",
        "inp = Input(shape=(maxlen,))\r\n",
        "x = Embedding(max_features, embed_size, weights=[embedding_matrix])(inp)\r\n",
        "x = Bidirectional(LSTM(64, return_sequences=True))(x)\r\n",
        "x = GlobalMaxPool1D()(x)\r\n",
        "x = Dense(16, activation=\"relu\")(x)\r\n",
        "x = Dropout(0.1)(x)\r\n",
        "x = Dense(1, activation=\"sigmoid\")(x)\r\n",
        "model = Model(inputs=inp, outputs=x)\r\n",
        "model.compile(loss='binary_crossentropy', optimizer='adam', metrics=['accuracy'])\r\n",
        "print(model.summary())"
      ],
      "execution_count": null,
      "outputs": [
        {
          "output_type": "stream",
          "text": [
            "Model: \"model\"\n",
            "_________________________________________________________________\n",
            "Layer (type)                 Output Shape              Param #   \n",
            "=================================================================\n",
            "input_1 (InputLayer)         [(None, 500)]             0         \n",
            "_________________________________________________________________\n",
            "embedding (Embedding)        (None, 500, 200)          10000000  \n",
            "_________________________________________________________________\n",
            "bidirectional (Bidirectional (None, 500, 128)          135680    \n",
            "_________________________________________________________________\n",
            "global_max_pooling1d (Global (None, 128)               0         \n",
            "_________________________________________________________________\n",
            "dense (Dense)                (None, 16)                2064      \n",
            "_________________________________________________________________\n",
            "dropout (Dropout)            (None, 16)                0         \n",
            "_________________________________________________________________\n",
            "dense_1 (Dense)              (None, 1)                 17        \n",
            "=================================================================\n",
            "Total params: 10,137,761\n",
            "Trainable params: 10,137,761\n",
            "Non-trainable params: 0\n",
            "_________________________________________________________________\n",
            "None\n"
          ],
          "name": "stdout"
        }
      ]
    },
    {
      "cell_type": "code",
      "metadata": {
        "colab": {
          "base_uri": "https://localhost:8080/",
          "height": 754
        },
        "id": "lBVzGF4Tn991",
        "outputId": "d67c9efb-6452-4316-9fe4-6fae1d9f6767"
      },
      "source": [
        "from keras.utils.vis_utils import plot_model\r\n",
        "plot_model(model, to_file='model_plot.png', show_shapes=True, show_layer_names=True)"
      ],
      "execution_count": null,
      "outputs": [
        {
          "output_type": "execute_result",
          "data": {
            "image/png": "[encoded data removed]",
            "text/plain": [
              "<IPython.core.display.Image object>"
            ]
          },
          "metadata": {
            "tags": []
          },
          "execution_count": 77
        }
      ]
    },
    {
      "cell_type": "code",
      "metadata": {
        "id": "6sKCrIDPQPc4"
      },
      "source": [
        "X_resampled, y_resampled = train_X, train_y"
      ],
      "execution_count": null,
      "outputs": []
    },
    {
      "cell_type": "code",
      "metadata": {
        "colab": {
          "base_uri": "https://localhost:8080/",
          "height": 710
        },
        "id": "6VE2RVxaQTEy",
        "outputId": "ee3eccd3-aa58-455b-ee6c-37e0fdbbd3a9"
      },
      "source": [
        "#training the model\r\n",
        "history = model.fit(X_resampled, y_resampled, batch_size=512, epochs=10, validation_data=(val_X, val_y))"
      ],
      "execution_count": null,
      "outputs": [
        {
          "output_type": "stream",
          "text": [
            "Epoch 1/10\n",
            "26/26 [==============================] - 186s 7s/step - loss: 0.6295 - accuracy: 0.6480 - val_loss: 0.6146 - val_accuracy: 0.6899\n",
            "Epoch 2/10\n",
            "26/26 [==============================] - 171s 7s/step - loss: 0.5509 - accuracy: 0.7083 - val_loss: 0.6596 - val_accuracy: 0.6909\n",
            "Epoch 3/10\n",
            "26/26 [==============================] - 171s 7s/step - loss: 0.4861 - accuracy: 0.7716 - val_loss: 0.7150 - val_accuracy: 0.6890\n",
            "Epoch 4/10\n",
            "26/26 [==============================] - 188s 7s/step - loss: 0.4163 - accuracy: 0.8198 - val_loss: 0.8489 - val_accuracy: 0.6922\n",
            "Epoch 5/10\n",
            "26/26 [==============================] - 174s 7s/step - loss: 0.3534 - accuracy: 0.8518 - val_loss: 0.9176 - val_accuracy: 0.6884\n",
            "Epoch 6/10\n",
            "26/26 [==============================] - 174s 7s/step - loss: 0.2932 - accuracy: 0.8837 - val_loss: 1.0278 - val_accuracy: 0.6833\n",
            "Epoch 7/10\n",
            "26/26 [==============================] - 173s 7s/step - loss: 0.2090 - accuracy: 0.9246 - val_loss: 1.1976 - val_accuracy: 0.6810\n",
            "Epoch 8/10\n",
            "26/26 [==============================] - 182s 7s/step - loss: 0.1569 - accuracy: 0.9413 - val_loss: 1.3046 - val_accuracy: 0.6725\n",
            "Epoch 9/10\n",
            "26/26 [==============================] - 174s 7s/step - loss: 0.1168 - accuracy: 0.9605 - val_loss: 1.4326 - val_accuracy: 0.6636\n",
            "Epoch 10/10\n",
            "26/26 [==============================] - 175s 7s/step - loss: 0.0911 - accuracy: 0.9691 - val_loss: 1.7193 - val_accuracy: 0.6748\n"
          ],
          "name": "stdout"
        },
        {
          "output_type": "error",
          "ename": "KeyError",
          "evalue": "ignored",
          "traceback": [
            "\u001b[0;31m---------------------------------------------------------------------------\u001b[0m",
            "\u001b[0;31mKeyError\u001b[0m                                  Traceback (most recent call last)",
            "\u001b[0;32m<ipython-input-52-3e66e682d85b>\u001b[0m in \u001b[0;36m<module>\u001b[0;34m()\u001b[0m\n\u001b[1;32m      1\u001b[0m \u001b[0mhistory\u001b[0m \u001b[0;34m=\u001b[0m \u001b[0mmodel\u001b[0m\u001b[0;34m.\u001b[0m\u001b[0mfit\u001b[0m\u001b[0;34m(\u001b[0m\u001b[0mX_resampled\u001b[0m\u001b[0;34m,\u001b[0m \u001b[0my_resampled\u001b[0m\u001b[0;34m,\u001b[0m \u001b[0mbatch_size\u001b[0m\u001b[0;34m=\u001b[0m\u001b[0;36m512\u001b[0m\u001b[0;34m,\u001b[0m \u001b[0mepochs\u001b[0m\u001b[0;34m=\u001b[0m\u001b[0;36m10\u001b[0m\u001b[0;34m,\u001b[0m \u001b[0mvalidation_data\u001b[0m\u001b[0;34m=\u001b[0m\u001b[0;34m(\u001b[0m\u001b[0mval_X\u001b[0m\u001b[0;34m,\u001b[0m \u001b[0mval_y\u001b[0m\u001b[0;34m)\u001b[0m\u001b[0;34m)\u001b[0m\u001b[0;34m\u001b[0m\u001b[0;34m\u001b[0m\u001b[0m\n\u001b[0;32m----> 2\u001b[0;31m \u001b[0mplotting\u001b[0m\u001b[0;34m(\u001b[0m\u001b[0mhistory\u001b[0m\u001b[0;34m)\u001b[0m\u001b[0;34m\u001b[0m\u001b[0;34m\u001b[0m\u001b[0m\n\u001b[0m\u001b[1;32m      3\u001b[0m \u001b[0;34m\u001b[0m\u001b[0m\n\u001b[1;32m      4\u001b[0m \u001b[0mloss\u001b[0m\u001b[0;34m,\u001b[0m \u001b[0macc\u001b[0m \u001b[0;34m=\u001b[0m \u001b[0mmodel\u001b[0m\u001b[0;34m.\u001b[0m\u001b[0mevaluate\u001b[0m\u001b[0;34m(\u001b[0m\u001b[0mtest_X\u001b[0m\u001b[0;34m,\u001b[0m \u001b[0mtest_y\u001b[0m\u001b[0;34m,\u001b[0m \u001b[0mverbose\u001b[0m\u001b[0;34m=\u001b[0m\u001b[0;36m0\u001b[0m\u001b[0;34m)\u001b[0m\u001b[0;34m\u001b[0m\u001b[0;34m\u001b[0m\u001b[0m\n\u001b[1;32m      5\u001b[0m \u001b[0mprint\u001b[0m\u001b[0;34m(\u001b[0m\u001b[0;34m'Test Accuracy: %f'\u001b[0m \u001b[0;34m%\u001b[0m \u001b[0;34m(\u001b[0m\u001b[0macc\u001b[0m\u001b[0;34m*\u001b[0m\u001b[0;36m100\u001b[0m\u001b[0;34m)\u001b[0m\u001b[0;34m)\u001b[0m\u001b[0;34m\u001b[0m\u001b[0;34m\u001b[0m\u001b[0m\n",
            "\u001b[0;32m<ipython-input-19-16f4ce0c8078>\u001b[0m in \u001b[0;36mplotting\u001b[0;34m(history)\u001b[0m\n\u001b[1;32m      1\u001b[0m \u001b[0;32mdef\u001b[0m \u001b[0mplotting\u001b[0m\u001b[0;34m(\u001b[0m\u001b[0mhistory\u001b[0m\u001b[0;34m)\u001b[0m\u001b[0;34m:\u001b[0m\u001b[0;34m\u001b[0m\u001b[0;34m\u001b[0m\u001b[0m\n\u001b[0;32m----> 2\u001b[0;31m     \u001b[0mplt\u001b[0m\u001b[0;34m.\u001b[0m\u001b[0mplot\u001b[0m\u001b[0;34m(\u001b[0m\u001b[0mhistory\u001b[0m\u001b[0;34m.\u001b[0m\u001b[0mhistory\u001b[0m\u001b[0;34m[\u001b[0m\u001b[0;34m'acc'\u001b[0m\u001b[0;34m]\u001b[0m\u001b[0;34m)\u001b[0m\u001b[0;34m\u001b[0m\u001b[0;34m\u001b[0m\u001b[0m\n\u001b[0m\u001b[1;32m      3\u001b[0m     \u001b[0mplt\u001b[0m\u001b[0;34m.\u001b[0m\u001b[0mplot\u001b[0m\u001b[0;34m(\u001b[0m\u001b[0mhistory\u001b[0m\u001b[0;34m.\u001b[0m\u001b[0mhistory\u001b[0m\u001b[0;34m[\u001b[0m\u001b[0;34m'val_acc'\u001b[0m\u001b[0;34m]\u001b[0m\u001b[0;34m)\u001b[0m\u001b[0;34m\u001b[0m\u001b[0;34m\u001b[0m\u001b[0m\n\u001b[1;32m      4\u001b[0m     \u001b[0mplt\u001b[0m\u001b[0;34m.\u001b[0m\u001b[0mtitle\u001b[0m\u001b[0;34m(\u001b[0m\u001b[0;34m'model accuracy'\u001b[0m\u001b[0;34m)\u001b[0m\u001b[0;34m\u001b[0m\u001b[0;34m\u001b[0m\u001b[0m\n\u001b[1;32m      5\u001b[0m     \u001b[0mplt\u001b[0m\u001b[0;34m.\u001b[0m\u001b[0mylabel\u001b[0m\u001b[0;34m(\u001b[0m\u001b[0;34m'accuracy'\u001b[0m\u001b[0;34m)\u001b[0m\u001b[0;34m\u001b[0m\u001b[0;34m\u001b[0m\u001b[0m\n",
            "\u001b[0;31mKeyError\u001b[0m: 'acc'"
          ]
        }
      ]
    },
    {
      "cell_type": "code",
      "metadata": {
        "colab": {
          "base_uri": "https://localhost:8080/",
          "height": 573
        },
        "id": "Sxwvyh8ClRWi",
        "outputId": "67c11fdb-13c4-41bd-913c-f141859ce89e"
      },
      "source": [
        "plotting(history)"
      ],
      "execution_count": null,
      "outputs": [
        {
          "output_type": "display_data",
          "data": {
            "image/png": "[encoded data removed]",
            "text/plain": [
              "<Figure size 432x288 with 1 Axes>"
            ]
          },
          "metadata": {
            "tags": [],
            "needs_background": "light"
          }
        },
        {
          "output_type": "display_data",
          "data": {
            "image/png": "[encoded data removed]",
            "text/plain": [
              "<Figure size 432x288 with 1 Axes>"
            ]
          },
          "metadata": {
            "tags": [],
            "needs_background": "light"
          }
        }
      ]
    },
    {
      "cell_type": "code",
      "metadata": {
        "id": "XCMKV_WJmaZV"
      },
      "source": [
        "test_y = test_y.apply(lambda x :binary(x) )"
      ],
      "execution_count": null,
      "outputs": []
    },
    {
      "cell_type": "code",
      "metadata": {
        "colab": {
          "base_uri": "https://localhost:8080/"
        },
        "id": "ifix7SY_nKIu",
        "outputId": "ef06fb08-8a4d-471e-bd02-8539104efd2f"
      },
      "source": [
        "test_y.head()"
      ],
      "execution_count": null,
      "outputs": [
        {
          "output_type": "execute_result",
          "data": {
            "text/plain": [
              "0    1\n",
              "1    0\n",
              "2    0\n",
              "3    0\n",
              "4    0\n",
              "Name: output, dtype: int64"
            ]
          },
          "metadata": {
            "tags": []
          },
          "execution_count": 70
        }
      ]
    },
    {
      "cell_type": "code",
      "metadata": {
        "colab": {
          "base_uri": "https://localhost:8080/"
        },
        "id": "fiH5YIyZlx9N",
        "outputId": "06b4ba2e-3034-411a-d05d-f918a5f3b410"
      },
      "source": [
        "# prediction on test data\r\n",
        "loss, acc = model.evaluate(test_X, test_y, verbose=0)\r\n",
        "print('Test Accuracy: %f' % (acc*100))"
      ],
      "execution_count": null,
      "outputs": [
        {
          "output_type": "stream",
          "text": [
            "Test Accuracy: 64.917696\n"
          ],
          "name": "stdout"
        }
      ]
    },
    {
      "cell_type": "code",
      "metadata": {
        "colab": {
          "base_uri": "https://localhost:8080/"
        },
        "id": "52eGzQGwQYew",
        "outputId": "90c6263f-404a-44e3-9b3b-44aac61d7704"
      },
      "source": [
        "\r\n",
        "pred_test_y = model.predict([test_X], batch_size=1024, verbose=1)\r\n",
        "pred_test_y = (pred_test_y > 0.5).astype(int)\r\n",
        "\r\n",
        "unique, counts = np.unique(pred_test_y, return_counts=True)\r\n",
        "print(np.asarray((unique, counts)).T)"
      ],
      "execution_count": null,
      "outputs": [
        {
          "output_type": "stream",
          "text": [
            "1/1 [==============================] - 4s 4s/step\n",
            "[[  0 892]\n",
            " [  1  80]]\n"
          ],
          "name": "stdout"
        }
      ]
    },
    {
      "cell_type": "code",
      "metadata": {
        "colab": {
          "base_uri": "https://localhost:8080/",
          "height": 329
        },
        "id": "jFlszSVSQZOa",
        "outputId": "4e49b818-f1bb-4d1d-a884-87c9f2ac9eaf"
      },
      "source": [
        "getConfusionMatrix(test_y, pred_test_y)"
      ],
      "execution_count": null,
      "outputs": [
        {
          "output_type": "stream",
          "text": [
            "Sensitivity: 7.77%\n",
            "Specificity: 91.55%\n"
          ],
          "name": "stdout"
        },
        {
          "output_type": "display_data",
          "data": {
            "image/png": "[encoded data removed]",
            "text/plain": [
              "<Figure size 432x288 with 2 Axes>"
            ]
          },
          "metadata": {
            "tags": [],
            "needs_background": "light"
          }
        }
      ]
    },
    {
      "cell_type": "code",
      "metadata": {
        "colab": {
          "base_uri": "https://localhost:8080/"
        },
        "id": "ILnCKIKiQaxG",
        "outputId": "ba1e9802-f5ae-4d31-c108-9ee75e86f363"
      },
      "source": [
        "\r\n",
        "print(f1_score(pred_test_y, test_y, average=\"macro\"))\r\n",
        "print(precision_score(pred_test_y, test_y, average=\"macro\"))\r\n",
        "print(recall_score(pred_test_y, test_y, average=\"macro\"))"
      ],
      "execution_count": null,
      "outputs": [
        {
          "output_type": "stream",
          "text": [
            "0.4520503558468825\n",
            "0.4966026739299155\n",
            "0.4902466367713004\n"
          ],
          "name": "stdout"
        }
      ]
    },
    {
      "cell_type": "code",
      "metadata": {
        "id": "go1EpOPfQctg"
      },
      "source": [
        ""
      ],
      "execution_count": null,
      "outputs": []
    }
  ]
}